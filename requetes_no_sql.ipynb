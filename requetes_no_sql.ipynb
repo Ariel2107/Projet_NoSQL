{
 "cells": [
  {
   "cell_type": "code",
   "execution_count": 1,
   "metadata": {},
   "outputs": [],
   "source": [
    "from pymongo import MongoClient\n",
    "import statistics"
   ]
  },
  {
   "cell_type": "code",
   "execution_count": 2,
   "metadata": {},
   "outputs": [],
   "source": [
    "client = MongoClient()\n",
    "db = client[\"Projet_Bachelor\"]"
   ]
  },
  {
   "cell_type": "code",
   "execution_count": 4,
   "metadata": {},
   "outputs": [
    {
     "data": {
      "text/plain": [
       "[{'_id': '', 'moyenne': 26.3357772713762}]"
      ]
     },
     "execution_count": 4,
     "metadata": {},
     "output_type": "execute_result"
    }
   ],
   "source": [
    "# Âge moyen\n",
    "under_40 = {\"$match\": {\"age\": {\"$gt\": 0, \"$lt\": 45}}}\n",
    "avg_age = {\"$group\": {\"_id\": \"\", \"moyenne\": {\"$avg\": \"$age\"}}}\n",
    "list(db.players.aggregate([under_40, avg_age]))"
   ]
  },
  {
   "cell_type": "code",
   "execution_count": 5,
   "metadata": {},
   "outputs": [
    {
     "data": {
      "text/plain": [
       "[{'_id': '', 'max': 44}]"
      ]
     },
     "execution_count": 5,
     "metadata": {},
     "output_type": "execute_result"
    }
   ],
   "source": [
    "# Âge maximum des joueurs (sans prendre les valeurs extrêmes):\n",
    "under_40 = {\"$match\": {\"age\": {\"$gt\": 0, \"$lt\": 45}}}\n",
    "max_age = {\"$group\": {\"_id\": \"\", \"max\": {\"$max\": \"$age\"}}}\n",
    "max_age_under_40 = db.players.aggregate([under_40, max_age])\n",
    "\n",
    "list(max_age_under_40)"
   ]
  },
  {
   "cell_type": "code",
   "execution_count": 6,
   "metadata": {},
   "outputs": [
    {
     "data": {
      "text/plain": [
       "[{'_id': '', 'min': 17}]"
      ]
     },
     "execution_count": 6,
     "metadata": {},
     "output_type": "execute_result"
    }
   ],
   "source": [
    "#  Âge minimum des joueurs (sans prendre les valeurs extrêmes):\n",
    "under_40 = {\"$match\": {\"age\": {\"$gt\": 0, \"$lt\": 45}}}\n",
    "min_age = {\"$group\": {\"_id\": \"\", \"min\": {\"$min\": \"$age\"}}}\n",
    "list(db.players.aggregate([under_40, min_age]))"
   ]
  },
  {
   "cell_type": "code",
   "execution_count": 7,
   "metadata": {},
   "outputs": [
    {
     "data": {
      "text/plain": [
       "[{'_id': 'RM', 'count': 1104},\n",
       " {'_id': 'CM', 'count': 2328},\n",
       " {'_id': 'LM', 'count': 1137},\n",
       " {'_id': 'RWB', 'count': 197},\n",
       " {'_id': 'LB', 'count': 1364},\n",
       " {'_id': 'RB', 'count': 1380},\n",
       " {'_id': 'LF', 'count': 10},\n",
       " {'_id': 'CAM', 'count': 1239},\n",
       " {'_id': 'GK', 'count': 2128},\n",
       " {'_id': 'CDM', 'count': 1694},\n",
       " {'_id': 'LWB', 'count': 195},\n",
       " {'_id': 'RF', 'count': 6},\n",
       " {'_id': 'LW', 'count': 503},\n",
       " {'_id': 'CF', 'count': 217},\n",
       " {'_id': 'CB', 'count': 3490},\n",
       " {'_id': 'RW', 'count': 563},\n",
       " {'_id': 'ST', 'count': 3031}]"
      ]
     },
     "execution_count": 7,
     "metadata": {},
     "output_type": "execute_result"
    }
   ],
   "source": [
    "group_position = {\"$group\":\n",
    "                          {\"_id\": \"$position\",\n",
    "                           \"count\": {\"$sum\": 1}\n",
    "                           }}\n",
    "list(db.players.aggregate([group_position]))"
   ]
  },
  {
   "cell_type": "code",
   "execution_count": 9,
   "metadata": {},
   "outputs": [
    {
     "data": {
      "text/plain": [
       "[{'_id': '', 'given_mean': 68.01680753910425}]"
      ]
     },
     "execution_count": 9,
     "metadata": {},
     "output_type": "execute_result"
    }
   ],
   "source": [
    "#  Moyenne de la note générale:\n",
    "true_mean = {\"$group\":\n",
    "                 {\"_id\": \"\",\n",
    "                  \"given_mean\": {\"$avg\": \"$rating\"}\n",
    "                  }\n",
    "             }\n",
    "\n",
    "list(db.players.aggregate([true_mean]))"
   ]
  },
  {
   "cell_type": "code",
   "execution_count": 10,
   "metadata": {},
   "outputs": [
    {
     "data": {
      "text/plain": [
       "[{'_id': 'Pelé', 'uniqueCount': 99},\n",
       " {'_id': 'Lionel Messi', 'uniqueCount': 98},\n",
       " {'_id': 'Robert Lewandowski', 'uniqueCount': 98},\n",
       " {'_id': 'Diego Maradona', 'uniqueCount': 98},\n",
       " {'_id': 'Rúben Dias', 'uniqueCount': 97},\n",
       " {'_id': 'Cristiano Ronaldo', 'uniqueCount': 97},\n",
       " {'_id': 'Luiz Frello Filho Jorge', 'uniqueCount': 97},\n",
       " {'_id': 'Zinedine Zidane', 'uniqueCount': 97},\n",
       " {'_id': 'Kylian Mbappé', 'uniqueCount': 97},\n",
       " {'_id': 'Ronaldo', 'uniqueCount': 97},\n",
       " {'_id': \"N'Golo Kanté\", 'uniqueCount': 96},\n",
       " {'_id': 'Gianluigi Donnarumma', 'uniqueCount': 96},\n",
       " {'_id': 'Kevin De Bruyne', 'uniqueCount': 96},\n",
       " {'_id': 'Lev Yashin', 'uniqueCount': 95},\n",
       " {'_id': 'Johan Cruyff', 'uniqueCount': 95},\n",
       " {'_id': 'Sadio Mané', 'uniqueCount': 95},\n",
       " {'_id': 'Ferenc Puskás', 'uniqueCount': 95},\n",
       " {'_id': 'Ronaldinho', 'uniqueCount': 95},\n",
       " {'_id': 'Marquinhos', 'uniqueCount': 95},\n",
       " {'_id': 'Paolo Maldini', 'uniqueCount': 95},\n",
       " {'_id': 'Garrincha', 'uniqueCount': 95},\n",
       " {'_id': 'Marcus Rashford', 'uniqueCount': 95},\n",
       " {'_id': 'João Cancelo', 'uniqueCount': 94},\n",
       " {'_id': 'Joshua Kimmich', 'uniqueCount': 94},\n",
       " {'_id': 'Lothar Matthäus', 'uniqueCount': 94},\n",
       " {'_id': 'David Beckham', 'uniqueCount': 94},\n",
       " {'_id': 'Thierry Henry', 'uniqueCount': 94},\n",
       " {'_id': 'George Best', 'uniqueCount': 94},\n",
       " {'_id': 'Carlos Alberto', 'uniqueCount': 94},\n",
       " {'_id': 'Ruud Gullit', 'uniqueCount': 94},\n",
       " {'_id': 'Abedi Pelé', 'uniqueCount': 94},\n",
       " {'_id': 'Roberto Baggio', 'uniqueCount': 94},\n",
       " {'_id': 'Riyad Mahrez', 'uniqueCount': 94},\n",
       " {'_id': 'Marcelo Vieira da Silva', 'uniqueCount': 94},\n",
       " {'_id': 'Marcos Cafú', 'uniqueCount': 94},\n",
       " {'_id': 'Éric Cantona', 'uniqueCount': 94},\n",
       " {'_id': 'Carles Puyol Saforcada', 'uniqueCount': 94},\n",
       " {'_id': 'Franco Baresi', 'uniqueCount': 94},\n",
       " {'_id': 'Mané Garrincha', 'uniqueCount': 94},\n",
       " {'_id': 'Xavier Hernández', 'uniqueCount': 94},\n",
       " {'_id': 'Eusébio', 'uniqueCount': 94},\n",
       " {'_id': 'Allan Saint-Maximin', 'uniqueCount': 94},\n",
       " {'_id': 'Marco van Basten', 'uniqueCount': 94},\n",
       " {'_id': 'Mohamed Salah', 'uniqueCount': 94},\n",
       " {'_id': 'Alessandro Nesta', 'uniqueCount': 93},\n",
       " {'_id': 'Clarence Seedorf', 'uniqueCount': 93},\n",
       " {'_id': 'Rivaldo', 'uniqueCount': 93},\n",
       " {'_id': 'Emilio Butragueño', 'uniqueCount': 93},\n",
       " {'_id': 'Dennis Bergkamp', 'uniqueCount': 93},\n",
       " {'_id': 'Jordan Henderson', 'uniqueCount': 93},\n",
       " {'_id': 'Paulo Dybala', 'uniqueCount': 93},\n",
       " {'_id': 'Alessandro Del Piero', 'uniqueCount': 93},\n",
       " {'_id': 'Karim Benzema', 'uniqueCount': 93},\n",
       " {'_id': 'Diego Milito', 'uniqueCount': 93},\n",
       " {'_id': 'Manuel Neuer', 'uniqueCount': 93},\n",
       " {'_id': 'Gary Lineker', 'uniqueCount': 93},\n",
       " {'_id': 'Ronald Koeman', 'uniqueCount': 93},\n",
       " {'_id': 'Ryan Giggs', 'uniqueCount': 93},\n",
       " {'_id': 'Carlos Alberto Torres', 'uniqueCount': 93},\n",
       " {'_id': 'Javier Zanetti', 'uniqueCount': 93},\n",
       " {'_id': 'Iker Casillas', 'uniqueCount': 93},\n",
       " {'_id': 'Andrea Pirlo', 'uniqueCount': 93},\n",
       " {'_id': \"Samuel Eto'o\", 'uniqueCount': 93},\n",
       " {'_id': 'Raúl', 'uniqueCount': 93},\n",
       " {'_id': 'Achraf Hakimi', 'uniqueCount': 93},\n",
       " {'_id': 'Wayne Rooney', 'uniqueCount': 93},\n",
       " {'_id': 'Peter Schmeichel', 'uniqueCount': 93},\n",
       " {'_id': 'Pedro González López', 'uniqueCount': 93},\n",
       " {'_id': 'Neymar Jr', 'uniqueCount': 93},\n",
       " {'_id': 'Jude Bellingham', 'uniqueCount': 93},\n",
       " {'_id': 'Fabio Cannavaro', 'uniqueCount': 93},\n",
       " {'_id': 'Mario Gomez', 'uniqueCount': 93},\n",
       " {'_id': 'Harry Kane', 'uniqueCount': 93},\n",
       " {'_id': 'Virgil van Dijk', 'uniqueCount': 93},\n",
       " {'_id': 'Luís Figo', 'uniqueCount': 93},\n",
       " {'_id': 'Ruud van Nistelrooy', 'uniqueCount': 93},\n",
       " {'_id': 'Bastian Schweinsteiger', 'uniqueCount': 93},\n",
       " {'_id': 'Kenny Dalglish', 'uniqueCount': 93},\n",
       " {'_id': 'Alexandre Lacazette', 'uniqueCount': 93},\n",
       " {'_id': 'Marco Reus', 'uniqueCount': 93},\n",
       " {'_id': 'Hristo Stoichkov', 'uniqueCount': 93},\n",
       " {'_id': 'Jamie Vardy', 'uniqueCount': 93},\n",
       " {'_id': 'Hugo Sánchez', 'uniqueCount': 93},\n",
       " {'_id': 'Riquelme', 'uniqueCount': 93},\n",
       " {'_id': 'Lucas Rodrigues M. Silva', 'uniqueCount': 93},\n",
       " {'_id': 'Bobby Moore', 'uniqueCount': 93},\n",
       " {'_id': 'Luis Suárez', 'uniqueCount': 93},\n",
       " {'_id': 'Alves da Silva', 'uniqueCount': 93},\n",
       " {'_id': 'Antonio Di Natale', 'uniqueCount': 93},\n",
       " {'_id': 'Fernandinho', 'uniqueCount': 92},\n",
       " {'_id': 'Michael Ballack', 'uniqueCount': 92},\n",
       " {'_id': 'Wissam Ben Yedder', 'uniqueCount': 92},\n",
       " {'_id': 'Sergio Busquets Burgos', 'uniqueCount': 92},\n",
       " {'_id': 'Coutinho', 'uniqueCount': 92},\n",
       " {'_id': 'Roberto Firmino', 'uniqueCount': 92},\n",
       " {'_id': 'Lorenzo Insigne', 'uniqueCount': 92},\n",
       " {'_id': 'Miroslav Klose', 'uniqueCount': 92},\n",
       " {'_id': 'Ousmane Dembélé', 'uniqueCount': 92},\n",
       " {'_id': 'Toni Kroos', 'uniqueCount': 92},\n",
       " {'_id': 'Patrick Vieira', 'uniqueCount': 92}]"
      ]
     },
     "execution_count": 10,
     "metadata": {},
     "output_type": "execute_result"
    }
   ],
   "source": [
    "# Récupération des 100 meilleurs joueurs:\n",
    "sort = {'$sort': {'uniqueCount': -1}}\n",
    "limitation = {'$limit': 100}\n",
    "unique = {\"$group\": {\"_id\": \"$name\", \"uniqueCount\": {\"$max\": \"$rating\"}}}\n",
    "list(db.players.aggregate([unique, sort, limitation]))"
   ]
  },
  {
   "cell_type": "code",
   "execution_count": 11,
   "metadata": {},
   "outputs": [
    {
     "name": "stdout",
     "output_type": "stream",
     "text": [
      "GK: Gianluigi Donnarumma 96 0.0\n",
      "CB: Rúben Dias 97 82.5\n",
      "CB: Paolo Maldini 95 80.33333333333333\n",
      "RB: Carlos Alberto 94 87.16666666666667\n",
      "LB: Marcelo Vieira da Silva 94 91.33333333333333\n",
      "CM: Luiz Frello Filho Jorge 97 90.33333333333333\n",
      "CM: Kevin De Bruyne 96 89.5\n",
      "CAM: Pelé 99 87.83333333333333\n",
      "RW: Lionel Messi 98 83.83333333333333\n",
      "LW: Ronaldinho 95 83.0\n",
      "ST: Robert Lewandowski 98 86.33333333333333\n"
     ]
    }
   ],
   "source": [
    "# Récupération des 11 meilleurs joueurs de fifa selon leur notes attribuées et selon leur moyenne aggrégée (en changeant seulement le sort):\n",
    "sort = {'$sort': {'rating': -1}}\n",
    "position_wanted = [\"GK\", \"CB\", \"RB\", \"LB\", \"CM\", \"CAM\", \"RW\", \"LW\", \"ST\"]\n",
    "projection = {\"$project\": {\n",
    "    \"_id\": 0,\n",
    "    \"name\": 1,\n",
    "    \"rating\": 1,\n",
    "    \"moyenne aggrégée\": {\"$divide\": [{\"$add\": [\"$physicality\", \"$passing\", \"$dribbling\", \"$pace\", \"$shooting\", \"$defending\"]}, 6]},\n",
    "    }\n",
    "}\n",
    "\n",
    "for position in position_wanted:\n",
    "    if position in [\"CB\", \"CM\"]:\n",
    "        limitation = {'$limit': 2}\n",
    "    else:\n",
    "        limitation = {'$limit': 1}\n",
    "    find_post = {\"$match\": {\"position\": position}}\n",
    "    players = list(db.players.aggregate([find_post, projection, sort, limitation]))\n",
    "    for player in players:\n",
    "        print(f\"{position}: {player['name']} {player['rating']} {player['moyenne aggrégée']}\")\n"
   ]
  },
  {
   "cell_type": "code",
   "execution_count": 12,
   "metadata": {},
   "outputs": [
    {
     "name": "stdout",
     "output_type": "stream",
     "text": [
      "\n",
      "AGGREGATED TEAM\n",
      "\n",
      "GK: Jonathan Orozco 75 44.0\n",
      "CB: Ronald Koeman 93 87.83333333333333\n",
      "CB: Marquinhos 95 84.83333333333333\n",
      "RB: Achraf Hakimi 93 89.66666666666667\n",
      "LB: Marcelo Vieira da Silva 94 91.33333333333333\n",
      "CM: Luiz Frello Filho Jorge 97 90.33333333333333\n",
      "CM: Kevin De Bruyne 96 89.5\n",
      "CAM: Zinedine Zidane 97 89.83333333333333\n",
      "RW: Mohamed Salah 94 84.66666666666667\n",
      "LW: Diogo Jota 88 83.83333333333333\n",
      "ST: Tim Cahill 91 87.83333333333333\n"
     ]
    }
   ],
   "source": [
    "print(\"\\nAGGREGATED TEAM\\n\")\n",
    "\n",
    "sort = {\"$sort\": {'moyenne aggrégée': -1}}\n",
    "for position in position_wanted:\n",
    "    if position in [\"CB\", \"CM\"]:\n",
    "        limitation = {'$limit': 2}\n",
    "    else:\n",
    "        limitation = {'$limit': 1}\n",
    "    find_post = {\"$match\": {\"position\": position}}\n",
    "    players = list(db.players.aggregate([find_post, projection, sort, limitation]))\n",
    "    for player in players:\n",
    "        print(f\"{position}: {player['name']} {player['rating']} {player['moyenne aggrégée']}\")"
   ]
  },
  {
   "cell_type": "code",
   "execution_count": 14,
   "metadata": {},
   "outputs": [
    {
     "name": "stdout",
     "output_type": "stream",
     "text": [
      "MOYENNE\n",
      "Moyenne attribuée : 68\n",
      "Moyenne calculée selon les attributs : 57\n"
     ]
    }
   ],
   "source": [
    "num_multi = \"MOYENNE\"\n",
    "true_mean = {\"$group\":\n",
    "                     {\"_id\": \"\",\n",
    "                      \"given_mean\": {\"$avg\": \"$rating\"}\n",
    "                      }\n",
    "                 }\n",
    "mean_ratings = {\"$group\":\n",
    "                    {\"_id\": \"\",\n",
    "                     \"mean_rating\": {\"$avg\": \"$rating\"},\n",
    "                     \"mean_pace\": {\"$avg\": \"$pace\"},\n",
    "                     \"mean_shooting\": {\"$avg\": \"$shooting\"},\n",
    "                     \"mean_passing\": {\"$avg\": \"$passing\"},\n",
    "                     \"mean_dribbling\": {\"$avg\": \"$dribbling\"},\n",
    "                     \"mean_defending\": {\"$avg\": \"$defending\"},\n",
    "                     \"mean_physicality\": {\"$avg\": \"$physicality\"},\n",
    "                     }\n",
    "                }\n",
    "attributes = ['Rating', 'Pace', 'Shooting', 'Passing', 'Dribbling', 'Defending', 'Physicality']\n",
    "if num_multi == 'MOYENNE':\n",
    "    ratings = list(\n",
    "        db.players.find({}, {\"pace\": 1, \"shooting\": 1, \"passing\": 1, \"dribbling\": 1, \"defending\": 1,\n",
    "                                    \"physicality\": 1, '_id': 0}))\n",
    "    given_moy = int(list(db.players.aggregate([true_mean]))[0]['given_mean'])\n",
    "    ratings_list = [values for key, values in list(db.players.aggregate([mean_ratings]))[0].items()][\n",
    "                   1:]\n",
    "else:\n",
    "    ratings = list(\n",
    "        db.players.find({\"name\": num_multi}, {\"pace\": 1, \"shooting\": 1, \"passing\": 1, \"dribbling\": 1, \"defending\": 1,\n",
    "                                    \"physicality\": 1, '_id': 0}))\n",
    "    match_player = {\"$match\": {\"name\": str(num_multi)}}\n",
    "    given_moy = int(list(db.players.aggregate([match_player, true_mean]))[0]['given_mean'])\n",
    "    ratings_list = [values for key, values in list(db.players.aggregate([match_player, mean_ratings]))[0].items()][\n",
    "                   1:]\n",
    "ratings_values = []\n",
    "for items in ratings:\n",
    "    for key in items:\n",
    "        ratings_values.append(items[key])\n",
    "ratings_moy = int(statistics.mean(ratings_values))\n",
    "print(num_multi)\n",
    "print(f\"Moyenne attribuée : {given_moy}\")\n",
    "print(f\"Moyenne calculée selon les attributs : {ratings_moy}\")"
   ]
  }
 ],
 "metadata": {
  "kernelspec": {
   "display_name": "Python 3",
   "language": "python",
   "name": "python3"
  },
  "language_info": {
   "codemirror_mode": {
    "name": "ipython",
    "version": 3
   },
   "file_extension": ".py",
   "mimetype": "text/x-python",
   "name": "python",
   "nbconvert_exporter": "python",
   "pygments_lexer": "ipython3",
   "version": "3.8.3"
  }
 },
 "nbformat": 4,
 "nbformat_minor": 4
}
